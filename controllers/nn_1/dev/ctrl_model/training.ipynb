{
 "cells": [
  {
   "cell_type": "code",
   "execution_count": 23,
   "metadata": {},
   "outputs": [],
   "source": [
    "import pandas as pd\n",
    "import numpy as np\n",
    "import torch\n",
    "\n",
    "# make jupytre relode modules when they change\n",
    "%load_ext autoreload\n",
    "%autoreload 2"
   ]
  },
  {
   "cell_type": "code",
   "execution_count": 99,
   "metadata": {},
   "outputs": [],
   "source": [
    "# csv file path\n",
    "path = ''"
   ]
  },
  {
   "cell_type": "code",
   "execution_count": 100,
   "metadata": {},
   "outputs": [],
   "source": [
    "# read csv file to pandas dataframe\n",
    "df = pd.read_csv(path)"
   ]
  },
  {
   "cell_type": "code",
   "execution_count": 4,
   "metadata": {},
   "outputs": [
    {
     "data": {
      "text/plain": [
       "(10, 13)"
      ]
     },
     "execution_count": 4,
     "metadata": {},
     "output_type": "execute_result"
    }
   ],
   "source": [
    "df.iloc[0:10].to_numpy().shape"
   ]
  },
  {
   "cell_type": "code",
   "execution_count": 98,
   "metadata": {},
   "outputs": [],
   "source": [
    "# Create dataset class\n",
    "class Dataset:\n",
    "    def __init__(self, csv_path, num_time_steps_before, num_time_steps_after):\n",
    "        self.df = pd.read_csv(csv_path)\n",
    "        self.num_time_steps_before = num_time_steps_before\n",
    "        self.num_time_steps_after = num_time_steps_after\n",
    "\n",
    "    def __len__(self):\n",
    "        return len(self.df) - self.num_time_steps_before - self.num_time_steps_after\n",
    "\n",
    "    def __getitem__(self, idx):\n",
    "\n",
    "        # Get a slice of the dataframe\n",
    "        df = self.df.iloc[idx:idx+self.num_time_steps_before+self.num_time_steps_after].copy()\n",
    "\n",
    "        # drop timestamp column\n",
    "        df = df.drop(columns=['timestamp'])\n",
    "\n",
    "        # Extract data\n",
    "        past_inputs = df.iloc[:self.num_time_steps_before][[\n",
    "            'flex_myobrick_pwm', \n",
    "            'extend_myobrick_pwm'\n",
    "        ]].to_numpy().astype(np.float32)\n",
    "        past_outputs = df.iloc[:self.num_time_steps_before][\n",
    "            'angle'\n",
    "        ].to_numpy().astype(np.float32)\n",
    "        past_interals = df.iloc[:self.num_time_steps_before][[\n",
    "            'safety_switch_pressed',\n",
    "            'flex_myobrick_pos_encoder',\n",
    "            'flex_myobrick_torque_encoder',\n",
    "            'flex_myobrick_current',\n",
    "            'flex_myobrick_in_running_state',\n",
    "            'extend_myobrick_pos_encoder',\n",
    "            'extend_myobrick_torque_encoder',\n",
    "            'extend_myobrick_current',\n",
    "            'extend_myobrick_in_running_state'\n",
    "        ]].to_numpy().astype(np.float32)\n",
    "        future_desired_outputs = df.iloc[self.num_time_steps_before:self.num_time_steps_before+self.num_time_steps_after][\n",
    "            'angle'\n",
    "        ].to_numpy().astype(np.float32)\n",
    "        future_predicted_inputs = df.iloc[self.num_time_steps_before:self.num_time_steps_before+self.num_time_steps_after][[\n",
    "            'flex_myobrick_pwm',\n",
    "            'extend_myobrick_pwm'\n",
    "        ]].to_numpy().astype(np.float32)\n",
    "\n",
    "\n",
    "        # convert to tensors\n",
    "        past_inputs = torch.from_numpy(past_inputs).permute(1, 0)\n",
    "        past_outputs = torch.from_numpy(past_outputs).unsqueeze(0)\n",
    "        past_interals = torch.from_numpy(past_interals).permute(1, 0)\n",
    "        future_desired_outputs = torch.from_numpy(future_desired_outputs).unsqueeze(0)\n",
    "        future_predicted_inputs = torch.from_numpy(future_predicted_inputs).permute(1, 0)\n",
    "\n",
    "        return past_inputs, past_outputs, past_interals, future_desired_outputs, future_predicted_inputs\n",
    "\n",
    "    "
   ]
  },
  {
   "cell_type": "code",
   "execution_count": 91,
   "metadata": {},
   "outputs": [],
   "source": [
    "# Create dataset\n",
    "dataset = Dataset(path, 20, 20)\n",
    "\n",
    "# Create dataloader\n",
    "dataloader = torch.utils.data.DataLoader(dataset, batch_size=2, shuffle=True)"
   ]
  },
  {
   "cell_type": "code",
   "execution_count": 94,
   "metadata": {},
   "outputs": [],
   "source": [
    "# Get a batch\n",
    "past_inputs, past_outputs, past_interals, future_desired_outputs, future_predicted_inputs = next(iter(dataloader))"
   ]
  },
  {
   "cell_type": "code",
   "execution_count": null,
   "metadata": {},
   "outputs": [],
   "source": []
  },
  {
   "cell_type": "code",
   "execution_count": null,
   "metadata": {},
   "outputs": [],
   "source": []
  },
  {
   "cell_type": "code",
   "execution_count": 63,
   "metadata": {},
   "outputs": [],
   "source": [
    "# Import pytorch_lightning model\n",
    "import pytorch_lightning as pl\n",
    "\n",
    "\n",
    "import sys\n",
    "sys.path.append('../')\n",
    "\n",
    "from system_controller_model import SystemControllerModel"
   ]
  },
  {
   "cell_type": "code",
   "execution_count": 72,
   "metadata": {},
   "outputs": [],
   "source": [
    "model = SystemControllerModel(\n",
    "    num_past_time_steps=20,\n",
    "    num_future_time_steps=20,\n",
    "    num_input_vars=2,\n",
    "    num_output_vars=1,\n",
    "    num_internal_vars=9\n",
    ")"
   ]
  },
  {
   "cell_type": "code",
   "execution_count": 77,
   "metadata": {},
   "outputs": [
    {
     "name": "stderr",
     "output_type": "stream",
     "text": [
      "GPU available: True (cuda), used: False\n",
      "TPU available: False, using: 0 TPU cores\n",
      "IPU available: False, using: 0 IPUs\n",
      "HPU available: False, using: 0 HPUs\n",
      "/home/nils/miniconda3/envs/i2dl/lib/python3.10/site-packages/pytorch_lightning/trainer/setup.py:175: PossibleUserWarning: GPU available but not used. Set `accelerator` and `devices` using `Trainer(accelerator='gpu', devices=1)`.\n",
      "  rank_zero_warn(\n",
      "\n",
      "  | Name                        | Type   | Params\n",
      "-------------------------------------------------------\n",
      "0 | past_conv1                  | Conv1d | 185   \n",
      "1 | past_conv2                  | Conv1d | 160   \n",
      "2 | future_desired_output_conv1 | Conv1d | 15    \n",
      "3 | future_desired_output_conv2 | Conv1d | 55    \n",
      "4 | fc1                         | Linear | 72.4 K\n",
      "5 | fc2                         | Linear | 16.0 K\n",
      "-------------------------------------------------------\n",
      "88.9 K    Trainable params\n",
      "0         Non-trainable params\n",
      "88.9 K    Total params\n",
      "0.355     Total estimated model params size (MB)\n",
      "/home/nils/miniconda3/envs/i2dl/lib/python3.10/site-packages/pytorch_lightning/trainer/connectors/data_connector.py:224: PossibleUserWarning: The dataloader, train_dataloader, does not have many workers which may be a bottleneck. Consider increasing the value of the `num_workers` argument` (try 8 which is the number of cpus on this machine) in the `DataLoader` init to improve performance.\n",
      "  rank_zero_warn(\n"
     ]
    },
    {
     "name": "stdout",
     "output_type": "stream",
     "text": [
      "Epoch 2: 100%|██████████| 230/230 [00:03<00:00, 71.19it/s, loss=0, v_num=2]"
     ]
    },
    {
     "name": "stderr",
     "output_type": "stream",
     "text": [
      "`Trainer.fit` stopped: `max_epochs=3` reached.\n"
     ]
    },
    {
     "name": "stdout",
     "output_type": "stream",
     "text": [
      "Epoch 2: 100%|██████████| 230/230 [00:03<00:00, 71.00it/s, loss=0, v_num=2]\n"
     ]
    }
   ],
   "source": [
    "# train model and print loss\n",
    "trainer = pl.Trainer(max_epochs=3)\n",
    "trainer.fit(model, dataloader)"
   ]
  },
  {
   "cell_type": "code",
   "execution_count": 75,
   "metadata": {},
   "outputs": [
    {
     "data": {
      "text/plain": [
       "tensor(0.)"
      ]
     },
     "execution_count": 75,
     "metadata": {},
     "output_type": "execute_result"
    }
   ],
   "source": [
    "trainer.logged_metrics['train_loss']"
   ]
  },
  {
   "cell_type": "code",
   "execution_count": 90,
   "metadata": {},
   "outputs": [],
   "source": [
    "# Test model\n",
    "model.eval()\n",
    "with torch.no_grad():\n",
    "    past_inputs, past_outputs, past_interals, future_desired_outputs, future_predicted_inputs = next(iter(dataloader))\n",
    "    future_predicted_outputs_hat = model(past_inputs, past_outputs, past_interals, future_desired_outputs)\n",
    "    \n",
    "\n",
    "# Plot results\n",
    "import matplotlib.pyplot as plt\n",
    "\n"
   ]
  },
  {
   "cell_type": "code",
   "execution_count": 88,
   "metadata": {},
   "outputs": [
    {
     "data": {
      "text/plain": [
       "tensor(0.)"
      ]
     },
     "execution_count": 88,
     "metadata": {},
     "output_type": "execute_result"
    }
   ],
   "source": [
    "future_predicted_outputs.min()"
   ]
  }
 ],
 "metadata": {
  "kernelspec": {
   "display_name": "i2dl",
   "language": "python",
   "name": "python3"
  },
  "language_info": {
   "codemirror_mode": {
    "name": "ipython",
    "version": 3
   },
   "file_extension": ".py",
   "mimetype": "text/x-python",
   "name": "python",
   "nbconvert_exporter": "python",
   "pygments_lexer": "ipython3",
   "version": "3.10.8 (main, Nov 24 2022, 14:13:03) [GCC 11.2.0]"
  },
  "orig_nbformat": 4,
  "vscode": {
   "interpreter": {
    "hash": "9b172aa64e99151ae5a8f8d9245b3245f8b4db3f2ddd051e6d003cb9af5f4340"
   }
  }
 },
 "nbformat": 4,
 "nbformat_minor": 2
}
